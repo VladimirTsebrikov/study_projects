{
 "cells": [
  {
   "cell_type": "markdown",
   "metadata": {
    "toc": true
   },
   "source": [
    "<h1>Содержание<span class=\"tocSkip\"></span></h1>\n",
    "<div class=\"toc\"><ul class=\"toc-item\"><li><span><a href=\"#Подготовка-данных\" data-toc-modified-id=\"Подготовка-данных-1\"><span class=\"toc-item-num\">1&nbsp;&nbsp;</span>Подготовка данных</a></span></li><li><span><a href=\"#Анализ-данных\" data-toc-modified-id=\"Анализ-данных-2\"><span class=\"toc-item-num\">2&nbsp;&nbsp;</span>Анализ данных</a></span><ul class=\"toc-item\"><li><span><a href=\"#Изменение-концентрация-металлов-(Au,-Ag,-Pb)-на-различных-этапах-очистки\" data-toc-modified-id=\"Изменение-концентрация-металлов-(Au,-Ag,-Pb)-на-различных-этапах-очистки-2.1\"><span class=\"toc-item-num\">2.1&nbsp;&nbsp;</span>Изменение концентрация металлов (Au, Ag, Pb) на различных этапах очистки</a></span><ul class=\"toc-item\"><li><span><a href=\"#Золото\" data-toc-modified-id=\"Золото-2.1.1\"><span class=\"toc-item-num\">2.1.1&nbsp;&nbsp;</span>Золото</a></span></li><li><span><a href=\"#Серебро\" data-toc-modified-id=\"Серебро-2.1.2\"><span class=\"toc-item-num\">2.1.2&nbsp;&nbsp;</span>Серебро</a></span></li><li><span><a href=\"#Свинец\" data-toc-modified-id=\"Свинец-2.1.3\"><span class=\"toc-item-num\">2.1.3&nbsp;&nbsp;</span>Свинец</a></span></li></ul></li><li><span><a href=\"#Распределения-размеров-гранул-сырья-на-обучающей-и-тестовой-выборках\" data-toc-modified-id=\"Распределения-размеров-гранул-сырья-на-обучающей-и-тестовой-выборках-2.2\"><span class=\"toc-item-num\">2.2&nbsp;&nbsp;</span>Распределения размеров гранул сырья на обучающей и тестовой выборках</a></span></li><li><span><a href=\"#Исследование-суммарной-концентрации-всех-веществ-на-разных-стадиях\" data-toc-modified-id=\"Исследование-суммарной-концентрации-всех-веществ-на-разных-стадиях-2.3\"><span class=\"toc-item-num\">2.3&nbsp;&nbsp;</span>Исследование суммарной концентрации всех веществ на разных стадиях</a></span></li><li><span><a href=\"#Удаление-аномалий\" data-toc-modified-id=\"Удаление-аномалий-2.4\"><span class=\"toc-item-num\">2.4&nbsp;&nbsp;</span>Удаление аномалий</a></span></li></ul></li><li><span><a href=\"#Модель\" data-toc-modified-id=\"Модель-3\"><span class=\"toc-item-num\">3&nbsp;&nbsp;</span>Модель</a></span><ul class=\"toc-item\"><li><span><a href=\"#Функция-для-вычисления-итоговой-sMAPE\" data-toc-modified-id=\"Функция-для-вычисления-итоговой-sMAPE-3.1\"><span class=\"toc-item-num\">3.1&nbsp;&nbsp;</span>Функция для вычисления итоговой sMAPE</a></span></li><li><span><a href=\"#Обучение-моделей\" data-toc-modified-id=\"Обучение-моделей-3.2\"><span class=\"toc-item-num\">3.2&nbsp;&nbsp;</span>Обучение моделей</a></span><ul class=\"toc-item\"><li><span><a href=\"#Модель-линейной-регрессии\" data-toc-modified-id=\"Модель-линейной-регрессии-3.2.1\"><span class=\"toc-item-num\">3.2.1&nbsp;&nbsp;</span>Модель линейной регрессии</a></span></li><li><span><a href=\"#Модель-решающего-дерева\" data-toc-modified-id=\"Модель-решающего-дерева-3.2.2\"><span class=\"toc-item-num\">3.2.2&nbsp;&nbsp;</span>Модель решающего дерева</a></span></li><li><span><a href=\"#Модель-случайного-леса\" data-toc-modified-id=\"Модель-случайного-леса-3.2.3\"><span class=\"toc-item-num\">3.2.3&nbsp;&nbsp;</span>Модель случайного леса</a></span></li></ul></li><li><span><a href=\"#Проверка-лучшей-модели-на-тестовой-выборке\" data-toc-modified-id=\"Проверка-лучшей-модели-на-тестовой-выборке-3.3\"><span class=\"toc-item-num\">3.3&nbsp;&nbsp;</span>Проверка лучшей модели на тестовой выборке</a></span></li></ul></li><li><span><a href=\"#Константная-модель\" data-toc-modified-id=\"Константная-модель-4\"><span class=\"toc-item-num\">4&nbsp;&nbsp;</span>Константная модель</a></span></li><li><span><a href=\"#Вывод\" data-toc-modified-id=\"Вывод-5\"><span class=\"toc-item-num\">5&nbsp;&nbsp;</span>Вывод</a></span></li></ul></div>"
   ]
  },
  {
   "cell_type": "markdown",
   "metadata": {},
   "source": [
    "# Восстановление золота из руды"
   ]
  },
  {
   "cell_type": "markdown",
   "metadata": {},
   "source": [
    "## Подготовка данных"
   ]
  },
  {
   "cell_type": "markdown",
   "metadata": {},
   "source": [
    "Импортируем бибилиотеки. Прочитаем данные из файла"
   ]
  },
  {
   "cell_type": "code",
   "execution_count": 1,
   "metadata": {},
   "outputs": [],
   "source": [
    "import pandas as pd\n",
    "import matplotlib.pyplot as plt\n",
    "import numpy as np\n",
    "from sklearn.metrics import mean_absolute_error, make_scorer\n",
    "from sklearn.preprocessing import StandardScaler\n",
    "from sklearn.linear_model import LinearRegression\n",
    "from sklearn.model_selection import cross_val_score\n",
    "from sklearn.model_selection import GridSearchCV\n",
    "from sklearn.preprocessing import StandardScaler\n",
    "from sklearn.ensemble import RandomForestRegressor\n",
    "from sklearn.tree import DecisionTreeRegressor\n",
    "from sklearn.dummy import DummyRegressor\n",
    "import warnings\n",
    "warnings.filterwarnings('ignore')"
   ]
  },
  {
   "cell_type": "code",
   "execution_count": 2,
   "metadata": {
    "scrolled": true
   },
   "outputs": [],
   "source": [
    "try:\n",
    "    df_train = pd.read_csv('/datasets/gold_recovery_train_new.csv')\n",
    "    df_test  = pd.read_csv('/datasets/gold_recovery_test_new.csv')\n",
    "    df_full  = pd.read_csv('/datasets/gold_recovery_full_new.csv')\n",
    "except:\n",
    "    df_train = pd.read_csv('gold_recovery_train_new.csv')\n",
    "    df_test  = pd.read_csv('gold_recovery_test_new.csv')\n",
    "    df_full  = pd.read_csv('gold_recovery_full_new.csv')"
   ]
  },
  {
   "cell_type": "code",
   "execution_count": 3,
   "metadata": {
    "scrolled": true
   },
   "outputs": [
    {
     "name": "stdout",
     "output_type": "stream",
     "text": [
      "<class 'pandas.core.frame.DataFrame'>\n",
      "RangeIndex: 14149 entries, 0 to 14148\n",
      "Data columns (total 87 columns):\n",
      " #   Column                                              Non-Null Count  Dtype  \n",
      "---  ------                                              --------------  -----  \n",
      " 0   date                                                14149 non-null  object \n",
      " 1   final.output.concentrate_ag                         14148 non-null  float64\n",
      " 2   final.output.concentrate_pb                         14148 non-null  float64\n",
      " 3   final.output.concentrate_sol                        13938 non-null  float64\n",
      " 4   final.output.concentrate_au                         14149 non-null  float64\n",
      " 5   final.output.recovery                               14149 non-null  float64\n",
      " 6   final.output.tail_ag                                14149 non-null  float64\n",
      " 7   final.output.tail_pb                                14049 non-null  float64\n",
      " 8   final.output.tail_sol                               14144 non-null  float64\n",
      " 9   final.output.tail_au                                14149 non-null  float64\n",
      " 10  primary_cleaner.input.sulfate                       14129 non-null  float64\n",
      " 11  primary_cleaner.input.depressant                    14117 non-null  float64\n",
      " 12  primary_cleaner.input.feed_size                     14149 non-null  float64\n",
      " 13  primary_cleaner.input.xanthate                      14049 non-null  float64\n",
      " 14  primary_cleaner.output.concentrate_ag               14149 non-null  float64\n",
      " 15  primary_cleaner.output.concentrate_pb               14063 non-null  float64\n",
      " 16  primary_cleaner.output.concentrate_sol              13863 non-null  float64\n",
      " 17  primary_cleaner.output.concentrate_au               14149 non-null  float64\n",
      " 18  primary_cleaner.output.tail_ag                      14148 non-null  float64\n",
      " 19  primary_cleaner.output.tail_pb                      14134 non-null  float64\n",
      " 20  primary_cleaner.output.tail_sol                     14103 non-null  float64\n",
      " 21  primary_cleaner.output.tail_au                      14149 non-null  float64\n",
      " 22  primary_cleaner.state.floatbank8_a_air              14145 non-null  float64\n",
      " 23  primary_cleaner.state.floatbank8_a_level            14148 non-null  float64\n",
      " 24  primary_cleaner.state.floatbank8_b_air              14145 non-null  float64\n",
      " 25  primary_cleaner.state.floatbank8_b_level            14148 non-null  float64\n",
      " 26  primary_cleaner.state.floatbank8_c_air              14147 non-null  float64\n",
      " 27  primary_cleaner.state.floatbank8_c_level            14148 non-null  float64\n",
      " 28  primary_cleaner.state.floatbank8_d_air              14146 non-null  float64\n",
      " 29  primary_cleaner.state.floatbank8_d_level            14148 non-null  float64\n",
      " 30  rougher.calculation.sulfate_to_au_concentrate       14148 non-null  float64\n",
      " 31  rougher.calculation.floatbank10_sulfate_to_au_feed  14148 non-null  float64\n",
      " 32  rougher.calculation.floatbank11_sulfate_to_au_feed  14148 non-null  float64\n",
      " 33  rougher.calculation.au_pb_ratio                     14149 non-null  float64\n",
      " 34  rougher.input.feed_ag                               14149 non-null  float64\n",
      " 35  rougher.input.feed_pb                               14049 non-null  float64\n",
      " 36  rougher.input.feed_rate                             14141 non-null  float64\n",
      " 37  rougher.input.feed_size                             14005 non-null  float64\n",
      " 38  rougher.input.feed_sol                              14071 non-null  float64\n",
      " 39  rougher.input.feed_au                               14149 non-null  float64\n",
      " 40  rougher.input.floatbank10_sulfate                   14120 non-null  float64\n",
      " 41  rougher.input.floatbank10_xanthate                  14141 non-null  float64\n",
      " 42  rougher.input.floatbank11_sulfate                   14113 non-null  float64\n",
      " 43  rougher.input.floatbank11_xanthate                  13721 non-null  float64\n",
      " 44  rougher.output.concentrate_ag                       14149 non-null  float64\n",
      " 45  rougher.output.concentrate_pb                       14149 non-null  float64\n",
      " 46  rougher.output.concentrate_sol                      14127 non-null  float64\n",
      " 47  rougher.output.concentrate_au                       14149 non-null  float64\n",
      " 48  rougher.output.recovery                             14149 non-null  float64\n",
      " 49  rougher.output.tail_ag                              14148 non-null  float64\n",
      " 50  rougher.output.tail_pb                              14149 non-null  float64\n",
      " 51  rougher.output.tail_sol                             14149 non-null  float64\n",
      " 52  rougher.output.tail_au                              14149 non-null  float64\n",
      " 53  rougher.state.floatbank10_a_air                     14148 non-null  float64\n",
      " 54  rougher.state.floatbank10_a_level                   14148 non-null  float64\n",
      " 55  rougher.state.floatbank10_b_air                     14148 non-null  float64\n",
      " 56  rougher.state.floatbank10_b_level                   14148 non-null  float64\n",
      " 57  rougher.state.floatbank10_c_air                     14148 non-null  float64\n",
      " 58  rougher.state.floatbank10_c_level                   14148 non-null  float64\n",
      " 59  rougher.state.floatbank10_d_air                     14149 non-null  float64\n",
      " 60  rougher.state.floatbank10_d_level                   14149 non-null  float64\n",
      " 61  rougher.state.floatbank10_e_air                     13713 non-null  float64\n",
      " 62  rougher.state.floatbank10_e_level                   14149 non-null  float64\n",
      " 63  rougher.state.floatbank10_f_air                     14149 non-null  float64\n",
      " 64  rougher.state.floatbank10_f_level                   14149 non-null  float64\n",
      " 65  secondary_cleaner.output.tail_ag                    14147 non-null  float64\n",
      " 66  secondary_cleaner.output.tail_pb                    14139 non-null  float64\n",
      " 67  secondary_cleaner.output.tail_sol                   12544 non-null  float64\n",
      " 68  secondary_cleaner.output.tail_au                    14149 non-null  float64\n",
      " 69  secondary_cleaner.state.floatbank2_a_air            13932 non-null  float64\n",
      " 70  secondary_cleaner.state.floatbank2_a_level          14148 non-null  float64\n",
      " 71  secondary_cleaner.state.floatbank2_b_air            14128 non-null  float64\n",
      " 72  secondary_cleaner.state.floatbank2_b_level          14148 non-null  float64\n",
      " 73  secondary_cleaner.state.floatbank3_a_air            14145 non-null  float64\n",
      " 74  secondary_cleaner.state.floatbank3_a_level          14148 non-null  float64\n",
      " 75  secondary_cleaner.state.floatbank3_b_air            14148 non-null  float64\n",
      " 76  secondary_cleaner.state.floatbank3_b_level          14148 non-null  float64\n",
      " 77  secondary_cleaner.state.floatbank4_a_air            14143 non-null  float64\n",
      " 78  secondary_cleaner.state.floatbank4_a_level          14148 non-null  float64\n",
      " 79  secondary_cleaner.state.floatbank4_b_air            14148 non-null  float64\n",
      " 80  secondary_cleaner.state.floatbank4_b_level          14148 non-null  float64\n",
      " 81  secondary_cleaner.state.floatbank5_a_air            14148 non-null  float64\n",
      " 82  secondary_cleaner.state.floatbank5_a_level          14148 non-null  float64\n",
      " 83  secondary_cleaner.state.floatbank5_b_air            14148 non-null  float64\n",
      " 84  secondary_cleaner.state.floatbank5_b_level          14148 non-null  float64\n",
      " 85  secondary_cleaner.state.floatbank6_a_air            14147 non-null  float64\n",
      " 86  secondary_cleaner.state.floatbank6_a_level          14148 non-null  float64\n",
      "dtypes: float64(86), object(1)\n",
      "memory usage: 9.4+ MB\n"
     ]
    }
   ],
   "source": [
    "df_train.info()"
   ]
  },
  {
   "cell_type": "code",
   "execution_count": 4,
   "metadata": {
    "scrolled": true
   },
   "outputs": [
    {
     "name": "stdout",
     "output_type": "stream",
     "text": [
      "<class 'pandas.core.frame.DataFrame'>\n",
      "RangeIndex: 5290 entries, 0 to 5289\n",
      "Data columns (total 53 columns):\n",
      " #   Column                                      Non-Null Count  Dtype  \n",
      "---  ------                                      --------------  -----  \n",
      " 0   date                                        5290 non-null   object \n",
      " 1   primary_cleaner.input.sulfate               5286 non-null   float64\n",
      " 2   primary_cleaner.input.depressant            5285 non-null   float64\n",
      " 3   primary_cleaner.input.feed_size             5290 non-null   float64\n",
      " 4   primary_cleaner.input.xanthate              5286 non-null   float64\n",
      " 5   primary_cleaner.state.floatbank8_a_air      5290 non-null   float64\n",
      " 6   primary_cleaner.state.floatbank8_a_level    5290 non-null   float64\n",
      " 7   primary_cleaner.state.floatbank8_b_air      5290 non-null   float64\n",
      " 8   primary_cleaner.state.floatbank8_b_level    5290 non-null   float64\n",
      " 9   primary_cleaner.state.floatbank8_c_air      5290 non-null   float64\n",
      " 10  primary_cleaner.state.floatbank8_c_level    5290 non-null   float64\n",
      " 11  primary_cleaner.state.floatbank8_d_air      5290 non-null   float64\n",
      " 12  primary_cleaner.state.floatbank8_d_level    5290 non-null   float64\n",
      " 13  rougher.input.feed_ag                       5290 non-null   float64\n",
      " 14  rougher.input.feed_pb                       5290 non-null   float64\n",
      " 15  rougher.input.feed_rate                     5287 non-null   float64\n",
      " 16  rougher.input.feed_size                     5289 non-null   float64\n",
      " 17  rougher.input.feed_sol                      5269 non-null   float64\n",
      " 18  rougher.input.feed_au                       5290 non-null   float64\n",
      " 19  rougher.input.floatbank10_sulfate           5285 non-null   float64\n",
      " 20  rougher.input.floatbank10_xanthate          5290 non-null   float64\n",
      " 21  rougher.input.floatbank11_sulfate           5282 non-null   float64\n",
      " 22  rougher.input.floatbank11_xanthate          5265 non-null   float64\n",
      " 23  rougher.state.floatbank10_a_air             5290 non-null   float64\n",
      " 24  rougher.state.floatbank10_a_level           5290 non-null   float64\n",
      " 25  rougher.state.floatbank10_b_air             5290 non-null   float64\n",
      " 26  rougher.state.floatbank10_b_level           5290 non-null   float64\n",
      " 27  rougher.state.floatbank10_c_air             5290 non-null   float64\n",
      " 28  rougher.state.floatbank10_c_level           5290 non-null   float64\n",
      " 29  rougher.state.floatbank10_d_air             5290 non-null   float64\n",
      " 30  rougher.state.floatbank10_d_level           5290 non-null   float64\n",
      " 31  rougher.state.floatbank10_e_air             5290 non-null   float64\n",
      " 32  rougher.state.floatbank10_e_level           5290 non-null   float64\n",
      " 33  rougher.state.floatbank10_f_air             5290 non-null   float64\n",
      " 34  rougher.state.floatbank10_f_level           5290 non-null   float64\n",
      " 35  secondary_cleaner.state.floatbank2_a_air    5287 non-null   float64\n",
      " 36  secondary_cleaner.state.floatbank2_a_level  5290 non-null   float64\n",
      " 37  secondary_cleaner.state.floatbank2_b_air    5288 non-null   float64\n",
      " 38  secondary_cleaner.state.floatbank2_b_level  5290 non-null   float64\n",
      " 39  secondary_cleaner.state.floatbank3_a_air    5281 non-null   float64\n",
      " 40  secondary_cleaner.state.floatbank3_a_level  5290 non-null   float64\n",
      " 41  secondary_cleaner.state.floatbank3_b_air    5290 non-null   float64\n",
      " 42  secondary_cleaner.state.floatbank3_b_level  5290 non-null   float64\n",
      " 43  secondary_cleaner.state.floatbank4_a_air    5290 non-null   float64\n",
      " 44  secondary_cleaner.state.floatbank4_a_level  5290 non-null   float64\n",
      " 45  secondary_cleaner.state.floatbank4_b_air    5290 non-null   float64\n",
      " 46  secondary_cleaner.state.floatbank4_b_level  5290 non-null   float64\n",
      " 47  secondary_cleaner.state.floatbank5_a_air    5290 non-null   float64\n",
      " 48  secondary_cleaner.state.floatbank5_a_level  5290 non-null   float64\n",
      " 49  secondary_cleaner.state.floatbank5_b_air    5290 non-null   float64\n",
      " 50  secondary_cleaner.state.floatbank5_b_level  5290 non-null   float64\n",
      " 51  secondary_cleaner.state.floatbank6_a_air    5290 non-null   float64\n",
      " 52  secondary_cleaner.state.floatbank6_a_level  5290 non-null   float64\n",
      "dtypes: float64(52), object(1)\n",
      "memory usage: 2.1+ MB\n"
     ]
    }
   ],
   "source": [
    "df_test.info()"
   ]
  },
  {
   "cell_type": "code",
   "execution_count": 5,
   "metadata": {
    "scrolled": true
   },
   "outputs": [
    {
     "name": "stdout",
     "output_type": "stream",
     "text": [
      "<class 'pandas.core.frame.DataFrame'>\n",
      "RangeIndex: 19439 entries, 0 to 19438\n",
      "Data columns (total 87 columns):\n",
      " #   Column                                              Non-Null Count  Dtype  \n",
      "---  ------                                              --------------  -----  \n",
      " 0   date                                                19439 non-null  object \n",
      " 1   final.output.concentrate_ag                         19438 non-null  float64\n",
      " 2   final.output.concentrate_pb                         19438 non-null  float64\n",
      " 3   final.output.concentrate_sol                        19228 non-null  float64\n",
      " 4   final.output.concentrate_au                         19439 non-null  float64\n",
      " 5   final.output.recovery                               19439 non-null  float64\n",
      " 6   final.output.tail_ag                                19438 non-null  float64\n",
      " 7   final.output.tail_pb                                19338 non-null  float64\n",
      " 8   final.output.tail_sol                               19433 non-null  float64\n",
      " 9   final.output.tail_au                                19439 non-null  float64\n",
      " 10  primary_cleaner.input.sulfate                       19415 non-null  float64\n",
      " 11  primary_cleaner.input.depressant                    19402 non-null  float64\n",
      " 12  primary_cleaner.input.feed_size                     19439 non-null  float64\n",
      " 13  primary_cleaner.input.xanthate                      19335 non-null  float64\n",
      " 14  primary_cleaner.output.concentrate_ag               19439 non-null  float64\n",
      " 15  primary_cleaner.output.concentrate_pb               19323 non-null  float64\n",
      " 16  primary_cleaner.output.concentrate_sol              19069 non-null  float64\n",
      " 17  primary_cleaner.output.concentrate_au               19439 non-null  float64\n",
      " 18  primary_cleaner.output.tail_ag                      19435 non-null  float64\n",
      " 19  primary_cleaner.output.tail_pb                      19418 non-null  float64\n",
      " 20  primary_cleaner.output.tail_sol                     19377 non-null  float64\n",
      " 21  primary_cleaner.output.tail_au                      19439 non-null  float64\n",
      " 22  primary_cleaner.state.floatbank8_a_air              19435 non-null  float64\n",
      " 23  primary_cleaner.state.floatbank8_a_level            19438 non-null  float64\n",
      " 24  primary_cleaner.state.floatbank8_b_air              19435 non-null  float64\n",
      " 25  primary_cleaner.state.floatbank8_b_level            19438 non-null  float64\n",
      " 26  primary_cleaner.state.floatbank8_c_air              19437 non-null  float64\n",
      " 27  primary_cleaner.state.floatbank8_c_level            19438 non-null  float64\n",
      " 28  primary_cleaner.state.floatbank8_d_air              19436 non-null  float64\n",
      " 29  primary_cleaner.state.floatbank8_d_level            19438 non-null  float64\n",
      " 30  rougher.calculation.sulfate_to_au_concentrate       19437 non-null  float64\n",
      " 31  rougher.calculation.floatbank10_sulfate_to_au_feed  19437 non-null  float64\n",
      " 32  rougher.calculation.floatbank11_sulfate_to_au_feed  19437 non-null  float64\n",
      " 33  rougher.calculation.au_pb_ratio                     19439 non-null  float64\n",
      " 34  rougher.input.feed_ag                               19439 non-null  float64\n",
      " 35  rougher.input.feed_pb                               19339 non-null  float64\n",
      " 36  rougher.input.feed_rate                             19428 non-null  float64\n",
      " 37  rougher.input.feed_size                             19294 non-null  float64\n",
      " 38  rougher.input.feed_sol                              19340 non-null  float64\n",
      " 39  rougher.input.feed_au                               19439 non-null  float64\n",
      " 40  rougher.input.floatbank10_sulfate                   19405 non-null  float64\n",
      " 41  rougher.input.floatbank10_xanthate                  19431 non-null  float64\n",
      " 42  rougher.input.floatbank11_sulfate                   19395 non-null  float64\n",
      " 43  rougher.input.floatbank11_xanthate                  18986 non-null  float64\n",
      " 44  rougher.output.concentrate_ag                       19439 non-null  float64\n",
      " 45  rougher.output.concentrate_pb                       19439 non-null  float64\n",
      " 46  rougher.output.concentrate_sol                      19416 non-null  float64\n",
      " 47  rougher.output.concentrate_au                       19439 non-null  float64\n",
      " 48  rougher.output.recovery                             19439 non-null  float64\n",
      " 49  rougher.output.tail_ag                              19438 non-null  float64\n",
      " 50  rougher.output.tail_pb                              19439 non-null  float64\n",
      " 51  rougher.output.tail_sol                             19439 non-null  float64\n",
      " 52  rougher.output.tail_au                              19439 non-null  float64\n",
      " 53  rougher.state.floatbank10_a_air                     19438 non-null  float64\n",
      " 54  rougher.state.floatbank10_a_level                   19438 non-null  float64\n",
      " 55  rougher.state.floatbank10_b_air                     19438 non-null  float64\n",
      " 56  rougher.state.floatbank10_b_level                   19438 non-null  float64\n",
      " 57  rougher.state.floatbank10_c_air                     19438 non-null  float64\n",
      " 58  rougher.state.floatbank10_c_level                   19438 non-null  float64\n",
      " 59  rougher.state.floatbank10_d_air                     19439 non-null  float64\n",
      " 60  rougher.state.floatbank10_d_level                   19439 non-null  float64\n",
      " 61  rougher.state.floatbank10_e_air                     19003 non-null  float64\n",
      " 62  rougher.state.floatbank10_e_level                   19439 non-null  float64\n",
      " 63  rougher.state.floatbank10_f_air                     19439 non-null  float64\n",
      " 64  rougher.state.floatbank10_f_level                   19439 non-null  float64\n",
      " 65  secondary_cleaner.output.tail_ag                    19437 non-null  float64\n",
      " 66  secondary_cleaner.output.tail_pb                    19427 non-null  float64\n",
      " 67  secondary_cleaner.output.tail_sol                   17691 non-null  float64\n",
      " 68  secondary_cleaner.output.tail_au                    19439 non-null  float64\n",
      " 69  secondary_cleaner.state.floatbank2_a_air            19219 non-null  float64\n",
      " 70  secondary_cleaner.state.floatbank2_a_level          19438 non-null  float64\n",
      " 71  secondary_cleaner.state.floatbank2_b_air            19416 non-null  float64\n",
      " 72  secondary_cleaner.state.floatbank2_b_level          19438 non-null  float64\n",
      " 73  secondary_cleaner.state.floatbank3_a_air            19426 non-null  float64\n",
      " 74  secondary_cleaner.state.floatbank3_a_level          19438 non-null  float64\n",
      " 75  secondary_cleaner.state.floatbank3_b_air            19438 non-null  float64\n",
      " 76  secondary_cleaner.state.floatbank3_b_level          19438 non-null  float64\n",
      " 77  secondary_cleaner.state.floatbank4_a_air            19433 non-null  float64\n",
      " 78  secondary_cleaner.state.floatbank4_a_level          19438 non-null  float64\n",
      " 79  secondary_cleaner.state.floatbank4_b_air            19438 non-null  float64\n",
      " 80  secondary_cleaner.state.floatbank4_b_level          19438 non-null  float64\n",
      " 81  secondary_cleaner.state.floatbank5_a_air            19438 non-null  float64\n",
      " 82  secondary_cleaner.state.floatbank5_a_level          19438 non-null  float64\n",
      " 83  secondary_cleaner.state.floatbank5_b_air            19438 non-null  float64\n",
      " 84  secondary_cleaner.state.floatbank5_b_level          19438 non-null  float64\n",
      " 85  secondary_cleaner.state.floatbank6_a_air            19437 non-null  float64\n",
      " 86  secondary_cleaner.state.floatbank6_a_level          19438 non-null  float64\n",
      "dtypes: float64(86), object(1)\n",
      "memory usage: 12.9+ MB\n"
     ]
    }
   ],
   "source": [
    "df_full.info()"
   ]
  },
  {
   "cell_type": "markdown",
   "metadata": {},
   "source": [
    "Вычислим эффективность обогащения. Для этого создадим функцию"
   ]
  },
  {
   "cell_type": "code",
   "execution_count": 6,
   "metadata": {},
   "outputs": [],
   "source": [
    "def gold_recovery(c, f, t):\n",
    "    result = (c *(f - t) / (f*(c - t))) * 100\n",
    "    return result"
   ]
  },
  {
   "cell_type": "markdown",
   "metadata": {},
   "source": [
    "Рассчетная эффективность обогащения:"
   ]
  },
  {
   "cell_type": "code",
   "execution_count": 7,
   "metadata": {
    "scrolled": false
   },
   "outputs": [],
   "source": [
    "train_recovery = (gold_recovery(df_train['rougher.output.concentrate_au'],\n",
    "                                df_train['rougher.input.feed_au'],\n",
    "                                df_train['rougher.output.tail_au'])\n",
    "                 )"
   ]
  },
  {
   "cell_type": "markdown",
   "metadata": {},
   "source": [
    "MAE между расчётами и значением признака из таблицы `df_train`:"
   ]
  },
  {
   "cell_type": "code",
   "execution_count": 8,
   "metadata": {},
   "outputs": [
    {
     "data": {
      "text/plain": [
       "9.73512347450521e-15"
      ]
     },
     "execution_count": 8,
     "metadata": {},
     "output_type": "execute_result"
    }
   ],
   "source": [
    "mean_absolute_error(df_train['rougher.output.recovery'], train_recovery)"
   ]
  },
  {
   "cell_type": "markdown",
   "metadata": {},
   "source": [
    "Значение ошибки очень мало, следовательно значениям в таблице можно верить."
   ]
  },
  {
   "cell_type": "markdown",
   "metadata": {},
   "source": [
    "Проанализируем признаки, недоступные в тестовой выборке"
   ]
  },
  {
   "cell_type": "code",
   "execution_count": 9,
   "metadata": {
    "scrolled": true
   },
   "outputs": [
    {
     "name": "stdout",
     "output_type": "stream",
     "text": [
      "<class 'pandas.core.frame.DataFrame'>\n",
      "RangeIndex: 14149 entries, 0 to 14148\n",
      "Data columns (total 34 columns):\n",
      " #   Column                                              Non-Null Count  Dtype  \n",
      "---  ------                                              --------------  -----  \n",
      " 0   final.output.concentrate_ag                         14148 non-null  float64\n",
      " 1   final.output.concentrate_au                         14149 non-null  float64\n",
      " 2   final.output.concentrate_pb                         14148 non-null  float64\n",
      " 3   final.output.concentrate_sol                        13938 non-null  float64\n",
      " 4   final.output.recovery                               14149 non-null  float64\n",
      " 5   final.output.tail_ag                                14149 non-null  float64\n",
      " 6   final.output.tail_au                                14149 non-null  float64\n",
      " 7   final.output.tail_pb                                14049 non-null  float64\n",
      " 8   final.output.tail_sol                               14144 non-null  float64\n",
      " 9   primary_cleaner.output.concentrate_ag               14149 non-null  float64\n",
      " 10  primary_cleaner.output.concentrate_au               14149 non-null  float64\n",
      " 11  primary_cleaner.output.concentrate_pb               14063 non-null  float64\n",
      " 12  primary_cleaner.output.concentrate_sol              13863 non-null  float64\n",
      " 13  primary_cleaner.output.tail_ag                      14148 non-null  float64\n",
      " 14  primary_cleaner.output.tail_au                      14149 non-null  float64\n",
      " 15  primary_cleaner.output.tail_pb                      14134 non-null  float64\n",
      " 16  primary_cleaner.output.tail_sol                     14103 non-null  float64\n",
      " 17  rougher.calculation.au_pb_ratio                     14149 non-null  float64\n",
      " 18  rougher.calculation.floatbank10_sulfate_to_au_feed  14148 non-null  float64\n",
      " 19  rougher.calculation.floatbank11_sulfate_to_au_feed  14148 non-null  float64\n",
      " 20  rougher.calculation.sulfate_to_au_concentrate       14148 non-null  float64\n",
      " 21  rougher.output.concentrate_ag                       14149 non-null  float64\n",
      " 22  rougher.output.concentrate_au                       14149 non-null  float64\n",
      " 23  rougher.output.concentrate_pb                       14149 non-null  float64\n",
      " 24  rougher.output.concentrate_sol                      14127 non-null  float64\n",
      " 25  rougher.output.recovery                             14149 non-null  float64\n",
      " 26  rougher.output.tail_ag                              14148 non-null  float64\n",
      " 27  rougher.output.tail_au                              14149 non-null  float64\n",
      " 28  rougher.output.tail_pb                              14149 non-null  float64\n",
      " 29  rougher.output.tail_sol                             14149 non-null  float64\n",
      " 30  secondary_cleaner.output.tail_ag                    14147 non-null  float64\n",
      " 31  secondary_cleaner.output.tail_au                    14149 non-null  float64\n",
      " 32  secondary_cleaner.output.tail_pb                    14139 non-null  float64\n",
      " 33  secondary_cleaner.output.tail_sol                   12544 non-null  float64\n",
      "dtypes: float64(34)\n",
      "memory usage: 3.7 MB\n"
     ]
    }
   ],
   "source": [
    "df_train[df_train.columns.difference(df_test.columns)].info()"
   ]
  },
  {
   "cell_type": "markdown",
   "metadata": {},
   "source": [
    "В тестовой таблице отсутствуют 34 числовых значения. Отсутствуют значения вида **output** (измеряемые по результатам этапов обработки руды) и вида **calculation** (рассчетные значения). Отсутствуют необходимые нам целевые признаки **rougher.output.recovery** и **final.output.recovery**. Очевидно, тестовая таблица содержит только те данные, на основе которых необходимо делать предсказания. В данных также имеются пропуски."
   ]
  },
  {
   "cell_type": "markdown",
   "metadata": {},
   "source": [
    "Добавим в тестовую выборку целевые признаки из таблицы `df_full`"
   ]
  },
  {
   "cell_type": "code",
   "execution_count": 10,
   "metadata": {},
   "outputs": [],
   "source": [
    "df_test = df_test.merge(df_full.loc[:, ['date', 'rougher.output.recovery', 'final.output.recovery']], on = 'date')"
   ]
  },
  {
   "cell_type": "markdown",
   "metadata": {},
   "source": [
    "Заполним пропуски в данных методом ffill."
   ]
  },
  {
   "cell_type": "code",
   "execution_count": 11,
   "metadata": {},
   "outputs": [],
   "source": [
    "df_full  = df_full.fillna(method='ffill')\n",
    "df_train = df_train.fillna(method='ffill')\n",
    "df_test  = df_test.fillna(method='ffill')"
   ]
  },
  {
   "cell_type": "markdown",
   "metadata": {},
   "source": [
    "Убедимся, что нет нулевых значений"
   ]
  },
  {
   "cell_type": "code",
   "execution_count": 12,
   "metadata": {},
   "outputs": [
    {
     "data": {
      "text/plain": [
       "0"
      ]
     },
     "execution_count": 12,
     "metadata": {},
     "output_type": "execute_result"
    }
   ],
   "source": [
    "df_full.isnull().sum().sum()"
   ]
  },
  {
   "cell_type": "code",
   "execution_count": 13,
   "metadata": {},
   "outputs": [
    {
     "data": {
      "text/plain": [
       "0"
      ]
     },
     "execution_count": 13,
     "metadata": {},
     "output_type": "execute_result"
    }
   ],
   "source": [
    "df_full.isnull().sum().sum()"
   ]
  },
  {
   "cell_type": "code",
   "execution_count": 14,
   "metadata": {
    "scrolled": true
   },
   "outputs": [
    {
     "data": {
      "text/plain": [
       "0"
      ]
     },
     "execution_count": 14,
     "metadata": {},
     "output_type": "execute_result"
    }
   ],
   "source": [
    "df_test.isnull().sum().sum()"
   ]
  },
  {
   "cell_type": "markdown",
   "metadata": {},
   "source": [
    "## Анализ данных"
   ]
  },
  {
   "cell_type": "markdown",
   "metadata": {},
   "source": [
    "### Изменение концентрация металлов (Au, Ag, Pb) на различных этапах очистки"
   ]
  },
  {
   "cell_type": "markdown",
   "metadata": {},
   "source": [
    "#### Золото"
   ]
  },
  {
   "cell_type": "code",
   "execution_count": 15,
   "metadata": {
    "scrolled": false
   },
   "outputs": [
    {
     "data": {
      "image/png": "[encoded data removed]",
      "text/plain": [
       "<Figure size 1152x576 with 1 Axes>"
      ]
     },
     "metadata": {
      "needs_background": "light"
     },
     "output_type": "display_data"
    }
   ],
   "source": [
    "plt.figure(figsize=[16,8])\n",
    "\n",
    "plt.hist(df_train['rougher.input.feed_au'], bins=100, label = 'Исходная концентрация', alpha=.5)\n",
    "plt.hist(df_train['rougher.output.concentrate_au'], bins=100, label = 'Концентрация после флотации', alpha=.5)\n",
    "plt.hist(df_train['primary_cleaner.output.concentrate_au'], bins=100, label = 'Концентрация после первичной очистки', alpha=.5)\n",
    "plt.hist(df_train['final.output.concentrate_au'], bins=100, label = 'Концентрация после вторичной очистки', alpha=.5)\n",
    "plt.title('Концентрация золота на различных этапах отчистки')\n",
    "plt.legend()\n",
    "plt.xlabel(\"концентрация\")\n",
    "plt.ylabel(\"плотность\")\n",
    "plt.show()"
   ]
  },
  {
   "cell_type": "markdown",
   "metadata": {},
   "source": [
    "Концентрация золота повышается с каждым этапом, что соответствует задачам флотации и очисток."
   ]
  },
  {
   "cell_type": "markdown",
   "metadata": {},
   "source": [
    "#### Серебро"
   ]
  },
  {
   "cell_type": "code",
   "execution_count": 16,
   "metadata": {
    "scrolled": false
   },
   "outputs": [
    {
     "data": {
      "image/png": "[encoded data removed]",
      "text/plain": [
       "<Figure size 1152x576 with 1 Axes>"
      ]
     },
     "metadata": {
      "needs_background": "light"
     },
     "output_type": "display_data"
    }
   ],
   "source": [
    "plt.figure(figsize=[16,8])\n",
    "\n",
    "plt.hist(df_train['rougher.input.feed_ag'], bins=100, label = 'Исходная концентрация', alpha=.5)\n",
    "plt.hist(df_train['rougher.output.concentrate_ag'], bins=100, label = 'Концентрация после флотации', alpha=.5)\n",
    "plt.hist(df_train['primary_cleaner.output.concentrate_ag'], bins=100, label = 'Концентрация после первичной очистки', alpha=.5)\n",
    "plt.hist(df_train['final.output.concentrate_ag'], bins=100, label = 'Концентрация после вторичной очистки', alpha=.5)\n",
    "plt.title('Концентрация серебра на различных этапах отчистки')\n",
    "plt.legend()\n",
    "plt.xlabel(\"концентрация\")\n",
    "plt.ylabel(\"плотность\")\n",
    "plt.show()"
   ]
  },
  {
   "cell_type": "markdown",
   "metadata": {},
   "source": [
    "Концентрация серебра повышается после флотации, но затем последовательно снижается."
   ]
  },
  {
   "cell_type": "markdown",
   "metadata": {},
   "source": [
    "#### Свинец"
   ]
  },
  {
   "cell_type": "code",
   "execution_count": 17,
   "metadata": {
    "scrolled": false
   },
   "outputs": [
    {
     "data": {
      "image/png": "[encoded data removed]",
      "text/plain": [
       "<Figure size 1152x576 with 1 Axes>"
      ]
     },
     "metadata": {
      "needs_background": "light"
     },
     "output_type": "display_data"
    }
   ],
   "source": [
    "plt.figure(figsize=[16,8])\n",
    "\n",
    "plt.hist(df_train['rougher.input.feed_pb'], bins=100, label = 'Исходная концентрация', alpha=.5)\n",
    "plt.hist(df_train['rougher.output.concentrate_pb'], bins=100, label = 'Концентрация после флотации', alpha=.5)\n",
    "plt.hist(df_train['primary_cleaner.output.concentrate_pb'], bins=100, label = 'Концентрация после первичной очистки', alpha=.5)\n",
    "plt.hist(df_train['final.output.concentrate_pb'], bins=100, label = 'Концентрация после вторичной очистки', alpha=.5)\n",
    "plt.title('Концентрация свинца на различных этапах отчистки')\n",
    "plt.legend()\n",
    "plt.xlabel(\"концентрация\")\n",
    "plt.ylabel(\"плотность\")\n",
    "plt.show()"
   ]
  },
  {
   "cell_type": "markdown",
   "metadata": {},
   "source": [
    "Концентрация свинца растёт от этапа у этапу"
   ]
  },
  {
   "cell_type": "markdown",
   "metadata": {},
   "source": [
    "### Распределения размеров гранул сырья на обучающей и тестовой выборках"
   ]
  },
  {
   "cell_type": "code",
   "execution_count": 18,
   "metadata": {},
   "outputs": [
    {
     "data": {
      "image/png": "[encoded data removed]",
      "text/plain": [
       "<Figure size 1152x576 with 1 Axes>"
      ]
     },
     "metadata": {
      "needs_background": "light"
     },
     "output_type": "display_data"
    }
   ],
   "source": [
    "plt.figure(figsize=[16,8])\n",
    "\n",
    "(plt.hist(df_train['rougher.input.feed_size'], bins=50,\n",
    "          label = 'Распределение размера гранул в обучающей выбрке', alpha=.5, density=1))\n",
    "\n",
    "(plt.hist(df_test['rougher.input.feed_size'], bins=50,\n",
    "          label = 'Распределение размера гранул в тестовой выбрке', alpha=.5, density=1))\n",
    "\n",
    "plt.xlabel(\"Размер гранул сырья\")\n",
    "plt.ylabel(\"Плотность\")\n",
    "plt.legend()\n",
    "plt.title(\"Гистограмма распределения гранул сырья перед флотацией\")\n",
    "plt.show()"
   ]
  },
  {
   "cell_type": "markdown",
   "metadata": {},
   "source": [
    "Распределения похожи, поэтому можно считать что оценка модели будет верной"
   ]
  },
  {
   "cell_type": "markdown",
   "metadata": {},
   "source": [
    "### Исследование суммарной концентрации всех веществ на разных стадиях"
   ]
  },
  {
   "cell_type": "code",
   "execution_count": 19,
   "metadata": {},
   "outputs": [],
   "source": [
    "df_rougher_in_au_ag_pb = (df_train['rougher.input.feed_au']\n",
    "                         +df_train['rougher.input.feed_ag']\n",
    "                         +df_train['rougher.input.feed_pb']\n",
    "                         +df_train['rougher.input.feed_sol'])\n",
    "\n",
    "df_rougher_out_au_ag_pb = (df_train['rougher.output.concentrate_au']\n",
    "                          +df_train['rougher.output.concentrate_ag']\n",
    "                          +df_train['rougher.output.concentrate_pb']\n",
    "                          +df_train['rougher.output.concentrate_sol'])\n",
    "\n",
    "df_primary_au_ag_pb = (df_train['primary_cleaner.output.concentrate_au']\n",
    "                      +df_train['primary_cleaner.output.concentrate_ag']\n",
    "                      +df_train['primary_cleaner.output.concentrate_pb']\n",
    "                      +df_train['primary_cleaner.output.concentrate_sol'])\n",
    "\n",
    "df_final_au_ag_pb   = (df_train['final.output.concentrate_au']\n",
    "                      +df_train['final.output.concentrate_ag']\n",
    "                      +df_train['final.output.concentrate_pb']\n",
    "                      +df_train['final.output.concentrate_sol'])"
   ]
  },
  {
   "cell_type": "code",
   "execution_count": 20,
   "metadata": {
    "scrolled": false
   },
   "outputs": [
    {
     "data": {
      "image/png": "[encoded data removed]",
      "text/plain": [
       "<Figure size 1152x576 with 1 Axes>"
      ]
     },
     "metadata": {
      "needs_background": "light"
     },
     "output_type": "display_data"
    }
   ],
   "source": [
    "plt.figure(figsize=[16,8])\n",
    "\n",
    "plt.hist(df_rougher_in_au_ag_pb, bins=100, label = 'Исходная концентрация', alpha=.5)\n",
    "plt.hist(df_rougher_out_au_ag_pb, bins=100, label = 'Концентрация после флотации', alpha=.5)\n",
    "plt.hist(df_primary_au_ag_pb, bins=100, label = 'Концентрация после первичной очистки', alpha=.5)\n",
    "plt.hist(df_final_au_ag_pb, bins=100, label = 'Концентрация после вторичной очистки', alpha=.5)\n",
    "plt.title('Концентрация веществ на различных этапах отчистки')\n",
    "plt.legend()\n",
    "plt.xlabel(\"концентрация\")\n",
    "plt.ylabel(\"плотность\")\n",
    "#plt.xlim([0, 10])\n",
    "#plt.ylim([0, 500])\n",
    "plt.show()"
   ]
  },
  {
   "cell_type": "markdown",
   "metadata": {},
   "source": [
    "На этапах флотации и очисток встречаются аномалии в виде некоторого значения околонулевых значений, избавимся от них."
   ]
  },
  {
   "cell_type": "markdown",
   "metadata": {},
   "source": [
    "### Удаление аномалий"
   ]
  },
  {
   "cell_type": "markdown",
   "metadata": {},
   "source": [
    "Удалим значения концентраций веществ менее 1 после флотации и 2-х очисток"
   ]
  },
  {
   "cell_type": "code",
   "execution_count": 21,
   "metadata": {},
   "outputs": [],
   "source": [
    "columns_with_outliers = ['rougher.output.concentrate_au', 'rougher.output.concentrate_ag', \n",
    "                        'rougher.output.concentrate_pb', 'rougher.output.concentrate_sol',\n",
    "                         \n",
    "                        'primary_cleaner.output.concentrate_au', 'primary_cleaner.output.concentrate_ag',\n",
    "                        'primary_cleaner.output.concentrate_pb', 'primary_cleaner.output.concentrate_sol',\n",
    "                         \n",
    "                        'final.output.concentrate_au', 'final.output.concentrate_ag', \n",
    "                        'final.output.concentrate_pb', 'final.output.concentrate_sol']"
   ]
  },
  {
   "cell_type": "code",
   "execution_count": 22,
   "metadata": {},
   "outputs": [],
   "source": [
    "for column in columns_with_outliers:\n",
    "    df_train = df_train.drop(index = df_train[df_train[column] < 1].index, axis = 0)"
   ]
  },
  {
   "cell_type": "markdown",
   "metadata": {},
   "source": [
    "## Модель"
   ]
  },
  {
   "cell_type": "markdown",
   "metadata": {},
   "source": [
    "###  Функция для вычисления итоговой sMAPE"
   ]
  },
  {
   "cell_type": "markdown",
   "metadata": {},
   "source": [
    "Вычисление sMAPE"
   ]
  },
  {
   "cell_type": "code",
   "execution_count": 23,
   "metadata": {},
   "outputs": [],
   "source": [
    "def sMAPE(y, y_pred):\n",
    "    smape = np.mean( abs(y - y_pred) / ((abs(y)+abs(y_pred))/2) )*100\n",
    "    return smape"
   ]
  },
  {
   "cell_type": "markdown",
   "metadata": {},
   "source": [
    "Итоговый sMAPE:"
   ]
  },
  {
   "cell_type": "code",
   "execution_count": 24,
   "metadata": {},
   "outputs": [],
   "source": [
    "def sMAPE_sum(sMAPE_rougher, sMAPE_final):\n",
    "    return (0.25*sMAPE_rougher + 0.75*sMAPE_final)"
   ]
  },
  {
   "cell_type": "markdown",
   "metadata": {},
   "source": [
    "Для предсказания rougher.output.recovery используем только данные из стобцов этапа rougher"
   ]
  },
  {
   "cell_type": "markdown",
   "metadata": {},
   "source": [
    "Разделим данные в обучающей выборке. Для предсказания **rougher.output.recovery** используем только данные из стобцов этапа `rougher`, а для предсказания **final.output.recovery** данные из всех столбцов кроме `date`"
   ]
  },
  {
   "cell_type": "code",
   "execution_count": 25,
   "metadata": {},
   "outputs": [],
   "source": [
    "train_features_r = df_train[df_test.columns[12:35]]\n",
    "train_target_r   = df_train['rougher.output.recovery']\n",
    "\n",
    "train_features_f = df_train[df_test.columns].drop(['date', 'rougher.output.recovery', 'final.output.recovery'], axis=1)\n",
    "train_target_f   = df_train['final.output.recovery']"
   ]
  },
  {
   "cell_type": "markdown",
   "metadata": {},
   "source": [
    "Данные для теста лучшей модели"
   ]
  },
  {
   "cell_type": "code",
   "execution_count": 26,
   "metadata": {},
   "outputs": [],
   "source": [
    "test_features_r = df_test[df_test.columns[12:35]]\n",
    "test_target_r   = df_test['rougher.output.recovery']\n",
    "\n",
    "test_features_f = df_test.drop(['date', 'rougher.output.recovery', 'final.output.recovery'], axis=1)\n",
    "test_target_f   = df_test['final.output.recovery']"
   ]
  },
  {
   "cell_type": "code",
   "execution_count": 27,
   "metadata": {},
   "outputs": [],
   "source": [
    "sMAPE_score = make_scorer(sMAPE, greater_is_better=False)"
   ]
  },
  {
   "cell_type": "markdown",
   "metadata": {},
   "source": [
    "### Обучение моделей"
   ]
  },
  {
   "cell_type": "markdown",
   "metadata": {},
   "source": [
    "#### Модель линейной регрессии"
   ]
  },
  {
   "cell_type": "code",
   "execution_count": 28,
   "metadata": {},
   "outputs": [],
   "source": [
    "model_r_LR = LinearRegression()\n",
    "model_f_LR = LinearRegression()"
   ]
  },
  {
   "cell_type": "code",
   "execution_count": 29,
   "metadata": {},
   "outputs": [
    {
     "data": {
      "text/plain": [
       "-6.7824918254052475"
      ]
     },
     "execution_count": 29,
     "metadata": {},
     "output_type": "execute_result"
    }
   ],
   "source": [
    "smape_r_LR = cross_val_score(model_r_LR, train_features_r, train_target_r, scoring=sMAPE_score, cv=5).mean()\n",
    "smape_r_LR"
   ]
  },
  {
   "cell_type": "code",
   "execution_count": 30,
   "metadata": {
    "scrolled": true
   },
   "outputs": [
    {
     "data": {
      "text/plain": [
       "-10.78383121153158"
      ]
     },
     "execution_count": 30,
     "metadata": {},
     "output_type": "execute_result"
    }
   ],
   "source": [
    "smape_f_LR = cross_val_score(model_f_LR, train_features_f, train_target_f, scoring=sMAPE_score, cv=5).mean()\n",
    "smape_f_LR"
   ]
  },
  {
   "cell_type": "markdown",
   "metadata": {},
   "source": [
    "Итоговый sMAPE"
   ]
  },
  {
   "cell_type": "code",
   "execution_count": 31,
   "metadata": {},
   "outputs": [
    {
     "data": {
      "text/plain": [
       "-9.783496364999998"
      ]
     },
     "execution_count": 31,
     "metadata": {},
     "output_type": "execute_result"
    }
   ],
   "source": [
    "smape_sum_LR = sMAPE_sum(smape_r_LR, smape_f_LR)\n",
    "smape_sum_LR"
   ]
  },
  {
   "cell_type": "markdown",
   "metadata": {},
   "source": [
    "#### Модель решающего дерева"
   ]
  },
  {
   "cell_type": "code",
   "execution_count": 32,
   "metadata": {},
   "outputs": [
    {
     "data": {
      "text/plain": [
       "-7.8297114742524325"
      ]
     },
     "execution_count": 32,
     "metadata": {},
     "output_type": "execute_result"
    }
   ],
   "source": [
    "model_r_DR = DecisionTreeRegressor(random_state=12345)\n",
    "\n",
    "params_DT = {'max_depth':[1, 20]}\n",
    "\n",
    "grid_r_DT = GridSearchCV(model_r_DR, param_grid = params_DT, scoring=sMAPE_score)\n",
    "grid_r_DT.fit(train_features_r, train_target_r)\n",
    "grid_r_DT.best_score_"
   ]
  },
  {
   "cell_type": "code",
   "execution_count": 33,
   "metadata": {},
   "outputs": [],
   "source": [
    "smape_r_DR = grid_r_DT.best_score_"
   ]
  },
  {
   "cell_type": "code",
   "execution_count": 34,
   "metadata": {
    "scrolled": true
   },
   "outputs": [
    {
     "data": {
      "text/plain": [
       "{'max_depth': 1}"
      ]
     },
     "execution_count": 34,
     "metadata": {},
     "output_type": "execute_result"
    }
   ],
   "source": [
    "grid_r_DT.best_params_"
   ]
  },
  {
   "cell_type": "code",
   "execution_count": 35,
   "metadata": {},
   "outputs": [
    {
     "data": {
      "text/plain": [
       "-9.33813682378338"
      ]
     },
     "execution_count": 35,
     "metadata": {},
     "output_type": "execute_result"
    }
   ],
   "source": [
    "model_f_DR = DecisionTreeRegressor(random_state=12345)\n",
    "\n",
    "grid_f_DT = GridSearchCV(model_f_DR, params_DT, cv=5, scoring=sMAPE_score)\n",
    "grid_f_DT.fit(train_features_f, train_target_f)\n",
    "grid_f_DT.best_score_"
   ]
  },
  {
   "cell_type": "code",
   "execution_count": 36,
   "metadata": {},
   "outputs": [],
   "source": [
    "smape_f_DR = grid_f_DT.best_score_"
   ]
  },
  {
   "cell_type": "code",
   "execution_count": 37,
   "metadata": {
    "scrolled": true
   },
   "outputs": [
    {
     "data": {
      "text/plain": [
       "{'max_depth': 1}"
      ]
     },
     "execution_count": 37,
     "metadata": {},
     "output_type": "execute_result"
    }
   ],
   "source": [
    "grid_f_DT.best_params_"
   ]
  },
  {
   "cell_type": "markdown",
   "metadata": {},
   "source": [
    "Итоговый sMAPE"
   ]
  },
  {
   "cell_type": "code",
   "execution_count": 38,
   "metadata": {},
   "outputs": [
    {
     "data": {
      "text/plain": [
       "-8.961030486400643"
      ]
     },
     "execution_count": 38,
     "metadata": {},
     "output_type": "execute_result"
    }
   ],
   "source": [
    "smape_sum_RF = sMAPE_sum(smape_r_DR, smape_f_DR)\n",
    "smape_sum_RF"
   ]
  },
  {
   "cell_type": "markdown",
   "metadata": {},
   "source": [
    "#### Модель случайного леса"
   ]
  },
  {
   "cell_type": "code",
   "execution_count": 39,
   "metadata": {
    "scrolled": true
   },
   "outputs": [
    {
     "name": "stdout",
     "output_type": "stream",
     "text": [
      "CPU times: user 6min 19s, sys: 2.55 s, total: 6min 22s\n",
      "Wall time: 33min 59s\n"
     ]
    },
    {
     "data": {
      "text/plain": [
       "-6.387331061892537"
      ]
     },
     "execution_count": 39,
     "metadata": {},
     "output_type": "execute_result"
    }
   ],
   "source": [
    "%%time\n",
    "\n",
    "model_r_RF = RandomForestRegressor(random_state=12345)\n",
    "\n",
    "params_RF = {'n_estimators': range (2, 20, 2),\n",
    "            'max_depth'    : range (1, 10, 1)}\n",
    "\n",
    "grid_r_RF = GridSearchCV(model_r_RF, params_RF, cv=5, scoring=sMAPE_score)\n",
    "grid_r_RF.fit(train_features_r, train_target_r)\n",
    "grid_r_RF.best_score_"
   ]
  },
  {
   "cell_type": "code",
   "execution_count": 40,
   "metadata": {},
   "outputs": [],
   "source": [
    "smape_r_RF = grid_r_RF.best_score_"
   ]
  },
  {
   "cell_type": "code",
   "execution_count": 41,
   "metadata": {},
   "outputs": [
    {
     "data": {
      "text/plain": [
       "{'max_depth': 5, 'n_estimators': 14}"
      ]
     },
     "execution_count": 41,
     "metadata": {},
     "output_type": "execute_result"
    }
   ],
   "source": [
    "grid_r_RF.best_params_"
   ]
  },
  {
   "cell_type": "code",
   "execution_count": 46,
   "metadata": {},
   "outputs": [
    {
     "name": "stdout",
     "output_type": "stream",
     "text": [
      "CPU times: user 13min 50s, sys: 2.64 s, total: 13min 53s\n",
      "Wall time: 1h 14min 6s\n"
     ]
    },
    {
     "data": {
      "text/plain": [
       "-8.824026464864655"
      ]
     },
     "execution_count": 46,
     "metadata": {},
     "output_type": "execute_result"
    }
   ],
   "source": [
    "%%time\n",
    "\n",
    "model_f_RF = RandomForestRegressor(random_state=12345)\n",
    "\n",
    "grid_f_RF = GridSearchCV(model_f_RF, params_RF, cv=5, scoring=sMAPE_score)\n",
    "grid_f_RF.fit(train_features_f, train_target_f)\n",
    "grid_f_RF.best_score_"
   ]
  },
  {
   "cell_type": "code",
   "execution_count": 47,
   "metadata": {},
   "outputs": [],
   "source": [
    "smape_f_RF = grid_f_RF.best_score_"
   ]
  },
  {
   "cell_type": "code",
   "execution_count": 48,
   "metadata": {
    "scrolled": true
   },
   "outputs": [
    {
     "data": {
      "text/plain": [
       "{'max_depth': 5, 'n_estimators': 4}"
      ]
     },
     "execution_count": 48,
     "metadata": {},
     "output_type": "execute_result"
    }
   ],
   "source": [
    "grid_f_RF.best_params_"
   ]
  },
  {
   "cell_type": "markdown",
   "metadata": {},
   "source": [
    "Итоговый sMAPE"
   ]
  },
  {
   "cell_type": "code",
   "execution_count": 49,
   "metadata": {},
   "outputs": [
    {
     "data": {
      "text/plain": [
       "-8.214852614121625"
      ]
     },
     "execution_count": 49,
     "metadata": {},
     "output_type": "execute_result"
    }
   ],
   "source": [
    "smape_sum_RF = sMAPE_sum(smape_r_RF, smape_f_RF)\n",
    "smape_sum_RF"
   ]
  },
  {
   "cell_type": "markdown",
   "metadata": {},
   "source": [
    "### Проверка лучшей модели на тестовой выборке"
   ]
  },
  {
   "cell_type": "markdown",
   "metadata": {},
   "source": [
    "Проверим лучшую модель случайного леса на тестовой выборке"
   ]
  },
  {
   "cell_type": "code",
   "execution_count": 50,
   "metadata": {},
   "outputs": [
    {
     "data": {
      "text/plain": [
       "9.595181238300562"
      ]
     },
     "execution_count": 50,
     "metadata": {},
     "output_type": "execute_result"
    }
   ],
   "source": [
    "best_model_r = grid_r_RF.best_estimator_\n",
    "best_model_f = grid_f_RF.best_estimator_\n",
    "\n",
    "test_predicted_r = best_model_r.predict(test_features_r)\n",
    "test_predicted_f = best_model_f.predict(test_features_f)\n",
    "\n",
    "sMAPE_r = sMAPE(test_target_r, test_predicted_r)\n",
    "sMAPE_f = sMAPE(test_target_f, test_predicted_f)\n",
    "\n",
    "sMAPE_sum(sMAPE_r, sMAPE_f)"
   ]
  },
  {
   "cell_type": "markdown",
   "metadata": {},
   "source": [
    "## Константная модель"
   ]
  },
  {
   "cell_type": "markdown",
   "metadata": {},
   "source": [
    "Рассчитаем sMAPE для константной модели DummyRegressor"
   ]
  },
  {
   "cell_type": "code",
   "execution_count": 51,
   "metadata": {},
   "outputs": [
    {
     "data": {
      "text/plain": [
       "9.422441042610604"
      ]
     },
     "execution_count": 51,
     "metadata": {},
     "output_type": "execute_result"
    }
   ],
   "source": [
    "dummy_median_r = DummyRegressor(strategy=\"median\")\n",
    "dummy_median_f = DummyRegressor(strategy=\"median\")\n",
    "\n",
    "dummy_median_r.fit(train_features_r, train_target_r)\n",
    "dummy_median_f.fit(train_features_f, train_target_f)\n",
    "\n",
    "dummy_predict_r = dummy_median_r.predict(test_features_r)\n",
    "dummy_predict_f = dummy_median_f.predict(test_features_f)\n",
    "\n",
    "dummy_sMAPE_r = sMAPE(test_target_r, dummy_predict_r)\n",
    "dummy_sMAPE_f = sMAPE(test_target_f, dummy_predict_f)\n",
    "\n",
    "sMAPE_sum(dummy_sMAPE_r, dummy_sMAPE_f)"
   ]
  },
  {
   "cell_type": "markdown",
   "metadata": {},
   "source": [
    "## Вывод"
   ]
  },
  {
   "cell_type": "markdown",
   "metadata": {},
   "source": [
    "Наилучший результат показала модель случайного леса (RandomForestRegressor), на которой был достигнут показатель sMAPE = 9.6% на тестовой выборке. Тем не менее этот результат не лучше константной модели, основанной на медианных значениях (sMAPE = 9.4%). Таким образом среди проверенных моделей ни одна не предсказывает заметно лучше константной 😿"
   ]
  }
 ],
 "metadata": {
  "ExecuteTimeLog": [
   {
    "duration": 1943,
    "start_time": "2022-05-15T18:24:10.318Z"
   },
   {
    "duration": 788,
    "start_time": "2022-05-15T18:24:12.264Z"
   },
   {
    "duration": 24,
    "start_time": "2022-05-15T18:24:13.054Z"
   },
   {
    "duration": 19,
    "start_time": "2022-05-15T18:24:13.081Z"
   },
   {
    "duration": 26,
    "start_time": "2022-05-15T18:24:13.123Z"
   },
   {
    "duration": 4,
    "start_time": "2022-05-15T18:24:13.151Z"
   },
   {
    "duration": 14,
    "start_time": "2022-05-15T18:24:13.157Z"
   },
   {
    "duration": 6,
    "start_time": "2022-05-15T18:24:13.174Z"
   },
   {
    "duration": 45,
    "start_time": "2022-05-15T18:24:13.182Z"
   },
   {
    "duration": 16,
    "start_time": "2022-05-15T18:24:13.230Z"
   },
   {
    "duration": 26,
    "start_time": "2022-05-15T18:24:13.248Z"
   },
   {
    "duration": 10,
    "start_time": "2022-05-15T18:24:13.276Z"
   },
   {
    "duration": 42,
    "start_time": "2022-05-15T18:24:13.287Z"
   },
   {
    "duration": 6,
    "start_time": "2022-05-15T18:24:13.331Z"
   },
   {
    "duration": 924,
    "start_time": "2022-05-15T18:24:13.339Z"
   },
   {
    "duration": 1061,
    "start_time": "2022-05-15T18:24:14.265Z"
   },
   {
    "duration": 1433,
    "start_time": "2022-05-15T18:24:15.329Z"
   },
   {
    "duration": 510,
    "start_time": "2022-05-15T18:24:16.765Z"
   },
   {
    "duration": 9,
    "start_time": "2022-05-15T18:24:17.277Z"
   },
   {
    "duration": 800,
    "start_time": "2022-05-15T18:24:17.288Z"
   },
   {
    "duration": 3,
    "start_time": "2022-05-15T18:24:18.090Z"
   },
   {
    "duration": 72,
    "start_time": "2022-05-15T18:24:18.096Z"
   },
   {
    "duration": 4,
    "start_time": "2022-05-15T18:24:18.170Z"
   },
   {
    "duration": 5,
    "start_time": "2022-05-15T18:24:18.176Z"
   },
   {
    "duration": 22,
    "start_time": "2022-05-15T18:24:18.183Z"
   },
   {
    "duration": 16,
    "start_time": "2022-05-15T18:24:18.207Z"
   },
   {
    "duration": 9,
    "start_time": "2022-05-15T18:24:18.225Z"
   },
   {
    "duration": 4,
    "start_time": "2022-05-15T18:24:18.239Z"
   },
   {
    "duration": 1278,
    "start_time": "2022-05-15T18:24:18.245Z"
   },
   {
    "duration": 1908,
    "start_time": "2022-05-15T18:24:19.525Z"
   },
   {
    "duration": 89,
    "start_time": "2022-05-15T18:24:21.436Z"
   },
   {
    "duration": 2235,
    "start_time": "2022-05-15T18:24:21.528Z"
   },
   {
    "duration": 3,
    "start_time": "2022-05-15T18:24:23.764Z"
   },
   {
    "duration": 6,
    "start_time": "2022-05-15T18:24:23.769Z"
   },
   {
    "duration": 4862,
    "start_time": "2022-05-15T18:24:23.777Z"
   },
   {
    "duration": 4,
    "start_time": "2022-05-15T18:24:28.642Z"
   },
   {
    "duration": 14,
    "start_time": "2022-05-15T18:24:28.647Z"
   },
   {
    "duration": 10,
    "start_time": "2022-05-15T18:24:28.663Z"
   },
   {
    "duration": 334450,
    "start_time": "2022-05-15T18:24:28.675Z"
   },
   {
    "duration": 3,
    "start_time": "2022-05-15T18:30:03.127Z"
   },
   {
    "duration": 16,
    "start_time": "2022-05-15T18:30:03.132Z"
   },
   {
    "duration": 699613,
    "start_time": "2022-05-15T18:30:03.150Z"
   },
   {
    "duration": 3,
    "start_time": "2022-05-15T18:41:42.765Z"
   },
   {
    "duration": 6,
    "start_time": "2022-05-15T18:41:42.771Z"
   },
   {
    "duration": 5,
    "start_time": "2022-05-15T18:41:42.779Z"
   },
   {
    "duration": 49,
    "start_time": "2022-05-15T18:41:42.786Z"
   },
   {
    "duration": 187,
    "start_time": "2022-05-16T07:01:09.567Z"
   },
   {
    "duration": 38,
    "start_time": "2022-05-16T07:03:03.673Z"
   },
   {
    "duration": 1694,
    "start_time": "2022-05-16T07:03:16.632Z"
   },
   {
    "duration": 635,
    "start_time": "2022-05-16T07:03:18.328Z"
   },
   {
    "duration": 16,
    "start_time": "2022-05-16T07:03:18.965Z"
   },
   {
    "duration": 24,
    "start_time": "2022-05-16T07:03:18.983Z"
   },
   {
    "duration": 15,
    "start_time": "2022-05-16T07:03:19.010Z"
   },
   {
    "duration": 3,
    "start_time": "2022-05-16T07:03:19.027Z"
   },
   {
    "duration": 9,
    "start_time": "2022-05-16T07:03:19.031Z"
   },
   {
    "duration": 7,
    "start_time": "2022-05-16T07:03:19.041Z"
   },
   {
    "duration": 13,
    "start_time": "2022-05-16T07:03:19.049Z"
   },
   {
    "duration": 46,
    "start_time": "2022-05-16T07:03:19.064Z"
   },
   {
    "duration": 4,
    "start_time": "2022-05-16T07:03:24.332Z"
   },
   {
    "duration": 4,
    "start_time": "2022-05-16T07:03:37.833Z"
   },
   {
    "duration": 25,
    "start_time": "2022-05-16T07:03:37.839Z"
   },
   {
    "duration": 8,
    "start_time": "2022-05-16T07:03:37.866Z"
   },
   {
    "duration": 8,
    "start_time": "2022-05-16T07:03:37.876Z"
   },
   {
    "duration": 5,
    "start_time": "2022-05-16T07:03:37.885Z"
   },
   {
    "duration": 865,
    "start_time": "2022-05-16T07:03:37.891Z"
   },
   {
    "duration": 694,
    "start_time": "2022-05-16T07:03:38.757Z"
   },
   {
    "duration": 791,
    "start_time": "2022-05-16T07:03:39.453Z"
   },
   {
    "duration": 283,
    "start_time": "2022-05-16T07:03:40.246Z"
   },
   {
    "duration": 7,
    "start_time": "2022-05-16T07:03:40.530Z"
   },
   {
    "duration": 1407,
    "start_time": "2022-05-16T07:03:40.538Z"
   },
   {
    "duration": 4,
    "start_time": "2022-05-16T07:03:42.001Z"
   },
   {
    "duration": 94,
    "start_time": "2022-05-16T07:03:42.007Z"
   },
   {
    "duration": 3,
    "start_time": "2022-05-16T07:03:42.103Z"
   },
   {
    "duration": 12,
    "start_time": "2022-05-16T07:03:42.107Z"
   },
   {
    "duration": 15,
    "start_time": "2022-05-16T07:03:42.121Z"
   },
   {
    "duration": 10,
    "start_time": "2022-05-16T07:03:42.138Z"
   },
   {
    "duration": 8,
    "start_time": "2022-05-16T07:03:42.150Z"
   },
   {
    "duration": 2,
    "start_time": "2022-05-16T07:03:42.201Z"
   },
   {
    "duration": 996,
    "start_time": "2022-05-16T07:03:42.205Z"
   },
   {
    "duration": 1197,
    "start_time": "2022-05-16T07:03:43.205Z"
   },
   {
    "duration": 97,
    "start_time": "2022-05-16T07:03:44.404Z"
   },
   {
    "duration": 1653,
    "start_time": "2022-05-16T07:03:44.502Z"
   },
   {
    "duration": 2,
    "start_time": "2022-05-16T07:03:46.159Z"
   },
   {
    "duration": 6,
    "start_time": "2022-05-16T07:03:46.163Z"
   },
   {
    "duration": 3912,
    "start_time": "2022-05-16T07:03:46.170Z"
   },
   {
    "duration": 2,
    "start_time": "2022-05-16T07:03:50.084Z"
   },
   {
    "duration": 38,
    "start_time": "2022-05-16T07:03:50.088Z"
   },
   {
    "duration": 38,
    "start_time": "2022-05-16T07:03:50.128Z"
   },
   {
    "duration": 438566,
    "start_time": "2022-05-16T07:03:50.168Z"
   },
   {
    "duration": 2,
    "start_time": "2022-05-16T07:11:08.735Z"
   },
   {
    "duration": 7,
    "start_time": "2022-05-16T07:11:08.739Z"
   },
   {
    "duration": 1253167,
    "start_time": "2022-05-16T07:11:08.748Z"
   },
   {
    "duration": 3,
    "start_time": "2022-05-16T07:32:01.917Z"
   },
   {
    "duration": 81,
    "start_time": "2022-05-16T07:32:01.921Z"
   },
   {
    "duration": 5,
    "start_time": "2022-05-16T07:32:02.004Z"
   },
   {
    "duration": 99,
    "start_time": "2022-05-16T07:32:02.011Z"
   },
   {
    "duration": 12,
    "start_time": "2022-05-16T07:32:02.114Z"
   },
   {
    "duration": 1646,
    "start_time": "2022-05-17T14:46:20.624Z"
   },
   {
    "duration": 708,
    "start_time": "2022-05-17T14:46:22.272Z"
   },
   {
    "duration": 21,
    "start_time": "2022-05-17T14:46:22.982Z"
   },
   {
    "duration": 12,
    "start_time": "2022-05-17T14:46:23.006Z"
   },
   {
    "duration": 15,
    "start_time": "2022-05-17T14:46:23.019Z"
   },
   {
    "duration": 29,
    "start_time": "2022-05-17T14:46:23.035Z"
   },
   {
    "duration": 9,
    "start_time": "2022-05-17T14:46:23.066Z"
   },
   {
    "duration": 6,
    "start_time": "2022-05-17T14:46:23.076Z"
   },
   {
    "duration": 12,
    "start_time": "2022-05-17T14:46:23.084Z"
   },
   {
    "duration": 12,
    "start_time": "2022-05-17T14:46:23.098Z"
   },
   {
    "duration": 57,
    "start_time": "2022-05-17T14:46:23.111Z"
   },
   {
    "duration": 9,
    "start_time": "2022-05-17T14:46:23.169Z"
   },
   {
    "duration": 9,
    "start_time": "2022-05-17T14:46:23.179Z"
   },
   {
    "duration": 5,
    "start_time": "2022-05-17T14:46:23.189Z"
   },
   {
    "duration": 927,
    "start_time": "2022-05-17T14:46:23.196Z"
   },
   {
    "duration": 934,
    "start_time": "2022-05-17T14:46:24.125Z"
   },
   {
    "duration": 900,
    "start_time": "2022-05-17T14:46:25.064Z"
   },
   {
    "duration": 338,
    "start_time": "2022-05-17T14:46:25.966Z"
   },
   {
    "duration": 10,
    "start_time": "2022-05-17T14:46:26.305Z"
   },
   {
    "duration": 752,
    "start_time": "2022-05-17T14:46:26.316Z"
   },
   {
    "duration": 3,
    "start_time": "2022-05-17T14:46:27.070Z"
   },
   {
    "duration": 52,
    "start_time": "2022-05-17T14:46:27.075Z"
   },
   {
    "duration": 4,
    "start_time": "2022-05-17T14:46:27.129Z"
   },
   {
    "duration": 7,
    "start_time": "2022-05-17T14:46:27.134Z"
   },
   {
    "duration": 26,
    "start_time": "2022-05-17T14:46:27.142Z"
   },
   {
    "duration": 8,
    "start_time": "2022-05-17T14:46:27.170Z"
   },
   {
    "duration": 6,
    "start_time": "2022-05-17T14:46:27.179Z"
   },
   {
    "duration": 3,
    "start_time": "2022-05-17T14:46:27.189Z"
   },
   {
    "duration": 870,
    "start_time": "2022-05-17T14:46:27.194Z"
   },
   {
    "duration": 1409,
    "start_time": "2022-05-17T14:46:28.066Z"
   },
   {
    "duration": 5,
    "start_time": "2022-05-17T14:46:29.565Z"
   },
   {
    "duration": 2031,
    "start_time": "2022-05-17T14:46:29.573Z"
   },
   {
    "duration": 3,
    "start_time": "2022-05-17T14:46:31.606Z"
   },
   {
    "duration": 11,
    "start_time": "2022-05-17T14:46:31.610Z"
   },
   {
    "duration": 4184,
    "start_time": "2022-05-17T14:46:31.622Z"
   },
   {
    "duration": 3,
    "start_time": "2022-05-17T14:46:35.807Z"
   },
   {
    "duration": 16,
    "start_time": "2022-05-17T14:46:35.812Z"
   },
   {
    "duration": 9,
    "start_time": "2022-05-17T14:46:35.830Z"
   },
   {
    "duration": 277155,
    "start_time": "2022-05-17T14:46:35.841Z"
   },
   {
    "duration": 2,
    "start_time": "2022-05-17T14:51:12.998Z"
   },
   {
    "duration": 10,
    "start_time": "2022-05-17T14:51:13.001Z"
   },
   {
    "duration": 802788,
    "start_time": "2022-05-17T14:51:13.012Z"
   },
   {
    "duration": 3,
    "start_time": "2022-05-17T15:04:35.801Z"
   },
   {
    "duration": 61,
    "start_time": "2022-05-17T15:04:35.805Z"
   },
   {
    "duration": 11,
    "start_time": "2022-05-17T15:04:35.867Z"
   },
   {
    "duration": 16,
    "start_time": "2022-05-17T15:04:35.880Z"
   },
   {
    "duration": 8,
    "start_time": "2022-05-17T15:04:35.898Z"
   },
   {
    "duration": 5,
    "start_time": "2022-05-17T15:06:20.564Z"
   },
   {
    "duration": 6,
    "start_time": "2022-05-17T15:06:33.763Z"
   },
   {
    "duration": 10086,
    "start_time": "2022-05-18T10:45:17.528Z"
   },
   {
    "duration": 7497,
    "start_time": "2022-05-18T10:45:27.619Z"
   },
   {
    "duration": 213,
    "start_time": "2022-05-18T10:45:35.124Z"
   },
   {
    "duration": 211,
    "start_time": "2022-05-18T10:45:35.416Z"
   },
   {
    "duration": 289,
    "start_time": "2022-05-18T10:45:35.644Z"
   },
   {
    "duration": 276,
    "start_time": "2022-05-18T10:45:35.938Z"
   },
   {
    "duration": 207,
    "start_time": "2022-05-18T10:45:36.215Z"
   },
   {
    "duration": 192,
    "start_time": "2022-05-18T10:45:36.440Z"
   },
   {
    "duration": 372,
    "start_time": "2022-05-18T10:45:36.640Z"
   },
   {
    "duration": 279,
    "start_time": "2022-05-18T10:45:37.040Z"
   },
   {
    "duration": 495,
    "start_time": "2022-05-18T10:45:37.340Z"
   },
   {
    "duration": 90,
    "start_time": "2022-05-18T10:45:37.838Z"
   },
   {
    "duration": 197,
    "start_time": "2022-05-18T10:45:37.931Z"
   },
   {
    "duration": 398,
    "start_time": "2022-05-18T10:45:38.136Z"
   },
   {
    "duration": 8686,
    "start_time": "2022-05-18T10:45:38.539Z"
   },
   {
    "duration": 9206,
    "start_time": "2022-05-18T10:45:47.231Z"
   },
   {
    "duration": 7566,
    "start_time": "2022-05-18T10:45:56.447Z"
   },
   {
    "duration": 3574,
    "start_time": "2022-05-18T10:46:04.038Z"
   },
   {
    "duration": 21,
    "start_time": "2022-05-18T10:46:07.614Z"
   },
   {
    "duration": 8780,
    "start_time": "2022-05-18T10:46:07.639Z"
   },
   {
    "duration": 7,
    "start_time": "2022-05-18T10:46:16.424Z"
   },
   {
    "duration": 918,
    "start_time": "2022-05-18T10:46:16.435Z"
   },
   {
    "duration": 59,
    "start_time": "2022-05-18T10:46:17.355Z"
   },
   {
    "duration": 6,
    "start_time": "2022-05-18T10:46:17.416Z"
   },
   {
    "duration": 406,
    "start_time": "2022-05-18T10:46:17.426Z"
   },
   {
    "duration": 283,
    "start_time": "2022-05-18T10:46:17.835Z"
   },
   {
    "duration": 293,
    "start_time": "2022-05-18T10:46:18.122Z"
   },
   {
    "duration": 293,
    "start_time": "2022-05-18T10:46:18.421Z"
   },
   {
    "duration": 1897,
    "start_time": "2022-05-18T10:46:18.715Z"
   },
   {
    "duration": 3618,
    "start_time": "2022-05-18T10:46:20.617Z"
   },
   {
    "duration": 95,
    "start_time": "2022-05-18T10:46:24.343Z"
   },
   {
    "duration": 12692,
    "start_time": "2022-05-18T10:46:24.445Z"
   },
   {
    "duration": 74,
    "start_time": "2022-05-18T10:46:37.139Z"
   },
   {
    "duration": 300,
    "start_time": "2022-05-18T10:46:37.216Z"
   },
   {
    "duration": 34328,
    "start_time": "2022-05-18T10:46:37.518Z"
   },
   {
    "duration": 3,
    "start_time": "2022-05-18T10:47:11.913Z"
   },
   {
    "duration": 207,
    "start_time": "2022-05-18T10:47:11.924Z"
   },
   {
    "duration": 308,
    "start_time": "2022-05-18T10:47:12.219Z"
   },
   {
    "duration": 2039989,
    "start_time": "2022-05-18T10:47:12.531Z"
   },
   {
    "duration": 7,
    "start_time": "2022-05-18T11:21:12.522Z"
   },
   {
    "duration": 5,
    "start_time": "2022-05-18T11:21:12.613Z"
   },
   {
    "duration": 4056697,
    "start_time": "2022-05-18T11:21:12.620Z"
   },
   {
    "duration": 112,
    "start_time": "2022-05-18T12:28:49.320Z"
   },
   {
    "duration": 0,
    "start_time": "2022-05-18T12:28:49.511Z"
   },
   {
    "duration": 0,
    "start_time": "2022-05-18T12:28:49.512Z"
   },
   {
    "duration": 0,
    "start_time": "2022-05-18T12:28:49.513Z"
   },
   {
    "duration": 0,
    "start_time": "2022-05-18T12:28:49.514Z"
   },
   {
    "duration": 15,
    "start_time": "2022-05-18T12:29:03.212Z"
   },
   {
    "duration": 15,
    "start_time": "2022-05-18T12:29:45.813Z"
   },
   {
    "duration": 4447063,
    "start_time": "2022-05-18T12:30:01.560Z"
   },
   {
    "duration": 4,
    "start_time": "2022-05-18T13:44:08.625Z"
   },
   {
    "duration": 305,
    "start_time": "2022-05-18T13:44:08.713Z"
   },
   {
    "duration": 119,
    "start_time": "2022-05-18T13:44:09.020Z"
   },
   {
    "duration": 108,
    "start_time": "2022-05-18T13:44:09.212Z"
   },
   {
    "duration": 198,
    "start_time": "2022-05-18T13:44:09.325Z"
   }
  ],
  "kernelspec": {
   "display_name": "Python 3",
   "language": "python",
   "name": "python3"
  },
  "language_info": {
   "codemirror_mode": {
    "name": "ipython",
    "version": 3
   },
   "file_extension": ".py",
   "mimetype": "text/x-python",
   "name": "python",
   "nbconvert_exporter": "python",
   "pygments_lexer": "ipython3",
   "version": "3.7.13"
  },
  "toc": {
   "base_numbering": 1,
   "nav_menu": {},
   "number_sections": true,
   "sideBar": true,
   "skip_h1_title": true,
   "title_cell": "Содержание",
   "title_sidebar": "Contents",
   "toc_cell": true,
   "toc_position": {
    "height": "632px",
    "left": "53px",
    "top": "111.141px",
    "width": "194px"
   },
   "toc_section_display": true,
   "toc_window_display": true
  }
 },
 "nbformat": 4,
 "nbformat_minor": 2
}
